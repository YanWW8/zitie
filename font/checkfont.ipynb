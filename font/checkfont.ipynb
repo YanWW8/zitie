{
 "cells": [
  {
   "cell_type": "code",
   "execution_count": 3,
   "metadata": {},
   "outputs": [],
   "source": [
    "from fontTools.ttLib import TTFont\n",
    "\n",
    "font = TTFont('tian.ttf')\n",
    "unicode_map = font['cmap'].tables[0].ttFont.getBestCmap()"
   ]
  },
  {
   "cell_type": "code",
   "execution_count": 4,
   "metadata": {},
   "outputs": [
    {
     "name": "stdout",
     "output_type": "stream",
     "text": [
      "字体库没有：【丶】这个汉字\n",
      "字体库中有：【一】这个汉字\n",
      "字体库没有：【丨】这个汉字\n",
      "字体库没有：【丿】这个汉字\n",
      "字体库没有：【乀】这个汉字\n",
      "字体库没有：【㇀】这个汉字\n",
      "字体库没有：【𠃍】这个汉字\n",
      "字体库中有：【フ】这个汉字\n",
      "字体库没有：【乛】这个汉字\n",
      "字体库没有：【𠃌】这个汉字\n",
      "字体库没有：【㇊】这个汉字\n",
      "字体库没有：【㇍】这个汉字\n",
      "字体库没有：【㇅】这个汉字\n",
      "字体库没有：【⺄】这个汉字\n",
      "字体库没有：【㇈】这个汉字\n",
      "字体库没有：【㇌】这个汉字\n",
      "字体库没有：【㇋】这个汉字\n",
      "字体库没有：【𠄎】这个汉字\n",
      "字体库没有：【㇎】这个汉字\n",
      "字体库没有：【𠄌】这个汉字\n",
      "字体库没有：【𠃊】这个汉字\n",
      "字体库没有：【亅】这个汉字\n",
      "字体库没有：【㇄】这个汉字\n",
      "字体库没有：【乚】这个汉字\n",
      "字体库中有：【ㄣ】这个汉字\n",
      "字体库没有：【𠃑】这个汉字\n",
      "字体库没有：【㇉】这个汉字\n",
      "字体库没有：【𡿨】这个汉字\n",
      "字体库没有：【𠃋】这个汉字\n",
      "字体库没有：【㇂】这个汉字\n",
      "字体库没有：【㇁】这个汉字\n",
      "字体库没有：【㇃】这个汉字\n"
     ]
    }
   ],
   "source": [
    "words = '丶一丨丿乀㇀𠃍フ乛𠃌㇊㇍㇅⺄㇈㇌㇋𠄎㇎𠄌𠃊亅㇄乚ㄣ𠃑㇉𡿨𠃋㇂㇁㇃'\n",
    "for word in words:\n",
    "    if ord(word) in unicode_map:\n",
    "        print(f'字体库中有：【{word}】这个汉字')\n",
    "    else:\n",
    "        print(f'字体库没有：【{word}】这个汉字')"
   ]
  },
  {
   "cell_type": "code",
   "execution_count": 5,
   "metadata": {},
   "outputs": [],
   "source": [
    "from fontTools.ttLib import TTFont\n",
    "\n",
    "font = TTFont('司马彦.ttf')\n",
    "unicode_map = font['cmap'].tables[0].ttFont.getBestCmap()"
   ]
  },
  {
   "cell_type": "code",
   "execution_count": 6,
   "metadata": {},
   "outputs": [
    {
     "name": "stdout",
     "output_type": "stream",
     "text": [
      "字体库没有：【丶】这个汉字\n",
      "字体库中有：【一】这个汉字\n",
      "字体库没有：【丨】这个汉字\n",
      "字体库没有：【丿】这个汉字\n",
      "字体库没有：【乀】这个汉字\n",
      "字体库没有：【㇀】这个汉字\n",
      "字体库没有：【𠃍】这个汉字\n",
      "字体库没有：【フ】这个汉字\n",
      "字体库没有：【乛】这个汉字\n",
      "字体库没有：【𠃌】这个汉字\n",
      "字体库没有：【㇊】这个汉字\n",
      "字体库没有：【㇍】这个汉字\n",
      "字体库没有：【㇅】这个汉字\n",
      "字体库没有：【⺄】这个汉字\n",
      "字体库没有：【㇈】这个汉字\n",
      "字体库没有：【㇌】这个汉字\n",
      "字体库没有：【㇋】这个汉字\n",
      "字体库没有：【𠄎】这个汉字\n",
      "字体库没有：【㇎】这个汉字\n",
      "字体库没有：【𠄌】这个汉字\n",
      "字体库没有：【𠃊】这个汉字\n",
      "字体库没有：【亅】这个汉字\n",
      "字体库没有：【㇄】这个汉字\n",
      "字体库没有：【乚】这个汉字\n",
      "字体库没有：【ㄣ】这个汉字\n",
      "字体库没有：【𠃑】这个汉字\n",
      "字体库没有：【㇉】这个汉字\n",
      "字体库没有：【𡿨】这个汉字\n",
      "字体库没有：【𠃋】这个汉字\n",
      "字体库没有：【㇂】这个汉字\n",
      "字体库没有：【㇁】这个汉字\n",
      "字体库没有：【㇃】这个汉字\n"
     ]
    }
   ],
   "source": [
    "words = '丶一丨丿乀㇀𠃍フ乛𠃌㇊㇍㇅⺄㇈㇌㇋𠄎㇎𠄌𠃊亅㇄乚ㄣ𠃑㇉𡿨𠃋㇂㇁㇃'\n",
    "for word in words:\n",
    "    if ord(word) in unicode_map:\n",
    "        print(f'字体库中有：【{word}】这个汉字')\n",
    "    else:\n",
    "        print(f'字体库没有：【{word}】这个汉字')"
   ]
  },
  {
   "cell_type": "code",
   "execution_count": 7,
   "metadata": {},
   "outputs": [
    {
     "name": "stdout",
     "output_type": "stream",
     "text": [
      "字体库没有：【丶】这个汉字\n",
      "字体库中有：【一】这个汉字\n",
      "字体库没有：【丨】这个汉字\n",
      "字体库没有：【丿】这个汉字\n",
      "字体库没有：【乀】这个汉字\n",
      "字体库没有：【㇀】这个汉字\n",
      "字体库没有：【𠃍】这个汉字\n",
      "字体库中有：【フ】这个汉字\n",
      "字体库没有：【乛】这个汉字\n",
      "字体库没有：【𠃌】这个汉字\n",
      "字体库没有：【㇊】这个汉字\n",
      "字体库没有：【㇍】这个汉字\n",
      "字体库没有：【㇅】这个汉字\n",
      "字体库没有：【⺄】这个汉字\n",
      "字体库没有：【㇈】这个汉字\n",
      "字体库没有：【㇌】这个汉字\n",
      "字体库没有：【㇋】这个汉字\n",
      "字体库没有：【𠄎】这个汉字\n",
      "字体库没有：【㇎】这个汉字\n",
      "字体库没有：【𠄌】这个汉字\n",
      "字体库没有：【𠃊】这个汉字\n",
      "字体库没有：【亅】这个汉字\n",
      "字体库没有：【㇄】这个汉字\n",
      "字体库没有：【乚】这个汉字\n",
      "字体库中有：【ㄣ】这个汉字\n",
      "字体库没有：【𠃑】这个汉字\n",
      "字体库没有：【㇉】这个汉字\n",
      "字体库没有：【𡿨】这个汉字\n",
      "字体库没有：【𠃋】这个汉字\n",
      "字体库没有：【㇂】这个汉字\n",
      "字体库没有：【㇁】这个汉字\n",
      "字体库没有：【㇃】这个汉字\n"
     ]
    }
   ],
   "source": [
    "from fontTools.ttLib import TTFont\n",
    "\n",
    "font = TTFont('姜浩.ttf')\n",
    "unicode_map = font['cmap'].tables[0].ttFont.getBestCmap()\n",
    "\n",
    "words = '丶一丨丿乀㇀𠃍フ乛𠃌㇊㇍㇅⺄㇈㇌㇋𠄎㇎𠄌𠃊亅㇄乚ㄣ𠃑㇉𡿨𠃋㇂㇁㇃'\n",
    "for word in words:\n",
    "    if ord(word) in unicode_map:\n",
    "        print(f'字体库中有：【{word}】这个汉字')\n",
    "    else:\n",
    "        print(f'字体库没有：【{word}】这个汉字')"
   ]
  },
  {
   "cell_type": "code",
   "execution_count": 46,
   "metadata": {},
   "outputs": [
    {
     "name": "stdout",
     "output_type": "stream",
     "text": [
      "字体库没有：【丶】这个汉字\n",
      "字体库中有：【一】\n",
      "字体库没有：【丨】这个汉字\n",
      "字体库没有：【丿】这个汉字\n",
      "字体库没有：【乀】这个汉字\n",
      "字体库没有：【㇀】这个汉字\n",
      "字体库没有：【𠃍】这个汉字\n",
      "字体库中有：【フ】\n",
      "字体库没有：【乛】这个汉字\n",
      "字体库没有：【𠃌】这个汉字\n",
      "字体库没有：【㇊】这个汉字\n",
      "字体库没有：【㇍】这个汉字\n",
      "字体库没有：【㇅】这个汉字\n",
      "字体库没有：【⺄】这个汉字\n",
      "字体库没有：【㇈】这个汉字\n",
      "字体库没有：【㇌】这个汉字\n",
      "字体库没有：【㇋】这个汉字\n",
      "字体库没有：【𠄎】这个汉字\n",
      "字体库没有：【㇎】这个汉字\n",
      "字体库没有：【𠄌】这个汉字\n",
      "字体库没有：【𠃊】这个汉字\n",
      "字体库没有：【亅】这个汉字\n",
      "字体库没有：【㇄】这个汉字\n",
      "字体库没有：【乚】这个汉字\n",
      "字体库中有：【ㄣ】\n",
      "字体库没有：【𠃑】这个汉字\n",
      "字体库没有：【㇉】这个汉字\n",
      "字体库没有：【𡿨】这个汉字\n",
      "字体库没有：【𠃋】这个汉字\n",
      "字体库没有：【㇂】这个汉字\n",
      "字体库没有：【㇁】这个汉字\n",
      "字体库没有：【㇃】这个汉字\n"
     ]
    }
   ],
   "source": [
    "from fontTools.ttLib import TTFont\n",
    "\n",
    "font = TTFont('田英章硬笔楷书简体.ttf')\n",
    "unicode_map = font['cmap'].tables[0].ttFont.getBestCmap()\n",
    "\n",
    "words = '丶一丨丿乀㇀𠃍フ乛𠃌㇊㇍㇅⺄㇈㇌㇋𠄎㇎𠄌𠃊亅㇄乚ㄣ𠃑㇉𡿨𠃋㇂㇁㇃'\n",
    "for word in words:\n",
    "    if ord(word) in unicode_map:\n",
    "        print(f'字体库中有：【{word}】这个汉字')\n",
    "    else:\n",
    "        print(f'字体库没有：【{word}】这个汉字')"
   ]
  },
  {
   "cell_type": "code",
   "execution_count": 44,
   "metadata": {},
   "outputs": [
    {
     "name": "stdout",
     "output_type": "stream",
     "text": [
      "字体库没有：【丶】这个汉字\n",
      "字体库中有：【一】\n",
      "字体库没有：【丨】这个汉字\n",
      "字体库没有：【丿】这个汉字\n",
      "字体库没有：【乀】这个汉字\n",
      "字体库没有：【㇀】这个汉字\n",
      "字体库没有：【𠃍】这个汉字\n",
      "字体库中有：【フ】\n",
      "字体库没有：【乛】这个汉字\n",
      "字体库没有：【𠃌】这个汉字\n",
      "字体库没有：【㇊】这个汉字\n",
      "字体库没有：【㇍】这个汉字\n",
      "字体库没有：【㇅】这个汉字\n",
      "字体库没有：【⺄】这个汉字\n",
      "字体库没有：【㇈】这个汉字\n",
      "字体库没有：【㇌】这个汉字\n",
      "字体库没有：【㇋】这个汉字\n",
      "字体库没有：【𠄎】这个汉字\n",
      "字体库没有：【㇎】这个汉字\n",
      "字体库没有：【𠄌】这个汉字\n",
      "字体库没有：【𠃊】这个汉字\n",
      "字体库没有：【亅】这个汉字\n",
      "字体库没有：【㇄】这个汉字\n",
      "字体库没有：【乚】这个汉字\n",
      "字体库中有：【ㄣ】\n",
      "字体库没有：【𠃑】这个汉字\n",
      "字体库没有：【㇉】这个汉字\n",
      "字体库没有：【𡿨】这个汉字\n",
      "字体库没有：【𠃋】这个汉字\n",
      "字体库没有：【㇂】这个汉字\n",
      "字体库没有：【㇁】这个汉字\n",
      "字体库没有：【㇃】这个汉字\n"
     ]
    }
   ],
   "source": [
    "from fontTools.ttLib import TTFont\n",
    "\n",
    "font = TTFont('田英章.ttf')\n",
    "unicode_map = font['cmap'].tables[0].ttFont.getBestCmap()\n",
    "\n",
    "words = '丶一丨丿乀㇀𠃍フ乛𠃌㇊㇍㇅⺄㇈㇌㇋𠄎㇎𠄌𠃊亅㇄乚ㄣ𠃑㇉𡿨𠃋㇂㇁㇃'\n",
    "for word in words:\n",
    "    if ord(word) in unicode_map:\n",
    "        print(f'字体库中有：【{word}】')\n",
    "    else:\n",
    "        print(f'字体库没有：【{word}】这个汉字')"
   ]
  },
  {
   "cell_type": "code",
   "execution_count": 10,
   "metadata": {},
   "outputs": [
    {
     "name": "stdout",
     "output_type": "stream",
     "text": [
      "字体库没有：【丶】\n",
      "字体库中有：【一】这个汉字\n",
      "字体库没有：【丨】\n",
      "字体库没有：【丿】\n",
      "字体库没有：【乀】\n",
      "字体库没有：【㇀】\n",
      "字体库没有：【𠃍】\n",
      "字体库中有：【フ】这个汉字\n",
      "字体库没有：【乛】\n",
      "字体库没有：【𠃌】\n",
      "字体库没有：【㇊】\n",
      "字体库没有：【㇍】\n",
      "字体库没有：【㇅】\n",
      "字体库没有：【⺄】\n",
      "字体库没有：【㇈】\n",
      "字体库没有：【㇌】\n",
      "字体库没有：【㇋】\n",
      "字体库没有：【𠄎】\n",
      "字体库没有：【㇎】\n",
      "字体库没有：【𠄌】\n",
      "字体库没有：【𠃊】\n",
      "字体库没有：【亅】\n",
      "字体库没有：【㇄】\n",
      "字体库没有：【乚】\n",
      "字体库中有：【ㄣ】这个汉字\n",
      "字体库没有：【𠃑】\n",
      "字体库没有：【㇉】\n",
      "字体库没有：【𡿨】\n",
      "字体库没有：【𠃋】\n",
      "字体库没有：【㇂】\n",
      "字体库没有：【㇁】\n",
      "字体库没有：【㇃】\n"
     ]
    }
   ],
   "source": [
    "from fontTools.ttLib import TTFont\n",
    "\n",
    "font = TTFont('英章楷书.ttf')\n",
    "unicode_map = font['cmap'].tables[0].ttFont.getBestCmap()\n",
    "\n",
    "words = '丶一丨丿乀㇀𠃍フ乛𠃌㇊㇍㇅⺄㇈㇌㇋𠄎㇎𠄌𠃊亅㇄乚ㄣ𠃑㇉𡿨𠃋㇂㇁㇃'\n",
    "for word in words:\n",
    "    if ord(word) in unicode_map:\n",
    "        print(f'字体库中有：【{word}】这个汉字')\n",
    "    else:\n",
    "        print(f'字体库没有：【{word}】')"
   ]
  },
  {
   "cell_type": "markdown",
   "metadata": {},
   "source": [
    "\n",
    "㇀,㇁, ㇂,㇃, ㇄, ㇅,㇆, ㇇, ㇈, ㇉,㇊, ㇋, ㇌,㇍, ㇎, ㇏, ㇐, ㇑, ㇒, ㇓, ㇔,㇕, ㇖, ㇗, ㇘, ㇙, ㇚, ㇛, ㇜, ㇝, ㇞, ㇟, ㇠, ㇡, "
   ]
  },
  {
   "cell_type": "code",
   "execution_count": 5,
   "metadata": {},
   "outputs": [
    {
     "name": "stdout",
     "output_type": "stream",
     "text": [
      "字体文件中包含的字符:\n",
      "㇀ ㇁ ㇂ ㇃ ㇆ ㇊ ㇍ ㇏ ㇑ ㇒ ㇓ ㇔ ㇕ ㇖ ㇙\n",
      "㇚ ㇛ ㇜ ㇝ ㇟ ㇠ ㇡\n"
     ]
    }
   ],
   "source": [
    "from fontTools.ttLib import TTFont\n",
    "from itertools import chain\n",
    "\n",
    "def list_chars_in_font(font_file, char_range):\n",
    "    font = TTFont(font_file)\n",
    "    unicode_map = font['cmap'].tables[0].ttFont.getBestCmap()\n",
    "\n",
    "    char_list = []\n",
    "    for code_point in char_range:\n",
    "        if code_point in unicode_map:\n",
    "            char_list.append(chr(code_point))\n",
    "    \n",
    "    return char_list\n",
    "\n",
    "# Unicode 范围 [\\u2E80-\\u2EFF\\u31C0-\\u31EF] 对应的十进制范围\n",
    "char_range = chain(range(0x2E80, 0x2EFF + 1), range(0x31C0, 0x31EF + 1))\n",
    "\n",
    "# 使用示例\n",
    "font_file = '田英章楷书.ttf'  # 替换为你的字体文件路径\n",
    "char_list = list_chars_in_font(font_file, char_range)\n",
    "\n",
    "print(\"字体文件中包含的字符:\")\n",
    "for i in range(0, len(char_list), 15):\n",
    "    print(' '.join(char_list[i:i+15]))\n"
   ]
  },
  {
   "cell_type": "code",
   "execution_count": 4,
   "metadata": {},
   "outputs": [
    {
     "name": "stdout",
     "output_type": "stream",
     "text": [
      "字体文件中包含的字符:\n",
      "㇀，㇁，㇂，㇃，㇆，㇊，㇍，㇏，㇑，㇒，㇓，㇔，㇕，㇖，㇙\n",
      "㇚，㇛，㇜，㇝，㇟，㇠，㇡\n"
     ]
    }
   ],
   "source": [
    "from fontTools.ttLib import TTFont\n",
    "from itertools import chain\n",
    "\n",
    "def list_chars_in_font(font_file, char_range):\n",
    "    font = TTFont(font_file)\n",
    "    unicode_map = font['cmap'].tables[0].ttFont.getBestCmap()\n",
    "\n",
    "    char_list = []\n",
    "    for code_point in char_range:\n",
    "        if code_point in unicode_map:\n",
    "            char_list.append(chr(code_point))\n",
    "    \n",
    "    return char_list\n",
    "\n",
    "# Unicode 范围 [\\u2E80-\\u2EFF\\u31C0-\\u31EF] 对应的十进制范围\n",
    "char_range = chain(range(0x2E80, 0x2EFF + 1), range(0x31C0, 0x31EF + 1))\n",
    "\n",
    "# 使用示例\n",
    "font_file = '田英章楷书.ttf'  # 替换为你的字体文件路径\n",
    "char_list = list_chars_in_font(font_file, char_range)\n",
    "\n",
    "print(\"字体文件中包含的字符:\")\n",
    "for i in range(0, len(char_list), 15):\n",
    "    print('，'.join(char_list[i:i+15]))\n"
   ]
  },
  {
   "cell_type": "code",
   "execution_count": 51,
   "metadata": {},
   "outputs": [
    {
     "name": "stdout",
     "output_type": "stream",
     "text": [
      "字体文件中包含的字符:\n"
     ]
    }
   ],
   "source": []
  }
 ],
 "metadata": {
  "kernelspec": {
   "display_name": "Python 3",
   "language": "python",
   "name": "python3"
  },
  "language_info": {
   "codemirror_mode": {
    "name": "ipython",
    "version": 3
   },
   "file_extension": ".py",
   "mimetype": "text/x-python",
   "name": "python",
   "nbconvert_exporter": "python",
   "pygments_lexer": "ipython3",
   "version": "3.11.9"
  }
 },
 "nbformat": 4,
 "nbformat_minor": 2
}
